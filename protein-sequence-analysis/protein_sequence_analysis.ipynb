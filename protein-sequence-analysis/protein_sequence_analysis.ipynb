{
  "nbformat": 4,
  "nbformat_minor": 0,
  "metadata": {
    "colab": {
      "provenance": []
    },
    "kernelspec": {
      "name": "python3",
      "display_name": "Python 3"
    },
    "language_info": {
      "name": "python"
    }
  },
  "cells": [
    {
      "cell_type": "markdown",
      "source": [
        "## Protein Sequence Analysis\n",
        "\n",
        "The Biopython suite provides tools for protein sequence analysis. Specifically, the `ProteinAnalysis` package will be demonstrated. Given an input amino acid sequence, it can perform several operations, such as counting the number of times a certain amino acid is repeated in the sequence, or computing the molecular weight of the protein.\n",
        "\n",
        "The amino acid sequence of epidermal growth factor receptor (EGFR) isoform X1, found in *Homo sapiens*, will be used for this demonstration."
      ],
      "metadata": {
        "id": "x_AKnorcYvu8"
      }
    },
    {
      "cell_type": "code",
      "execution_count": 1,
      "metadata": {
        "colab": {
          "base_uri": "https://localhost:8080/"
        },
        "id": "8B_8nu_RXtnT",
        "outputId": "36028f7c-9097-402e-c05d-e40a7542e872"
      },
      "outputs": [
        {
          "output_type": "stream",
          "name": "stdout",
          "text": [
            "Collecting biopython\n",
            "  Downloading biopython-1.84-cp310-cp310-manylinux_2_17_x86_64.manylinux2014_x86_64.whl.metadata (12 kB)\n",
            "Requirement already satisfied: numpy in /usr/local/lib/python3.10/dist-packages (from biopython) (1.26.4)\n",
            "Downloading biopython-1.84-cp310-cp310-manylinux_2_17_x86_64.manylinux2014_x86_64.whl (3.2 MB)\n",
            "\u001b[2K   \u001b[90m━━━━━━━━━━━━━━━━━━━━━━━━━━━━━━━━━━━━━━━━\u001b[0m \u001b[32m3.2/3.2 MB\u001b[0m \u001b[31m16.0 MB/s\u001b[0m eta \u001b[36m0:00:00\u001b[0m\n",
            "\u001b[?25hInstalling collected packages: biopython\n",
            "Successfully installed biopython-1.84\n"
          ]
        }
      ],
      "source": [
        "!pip install biopython"
      ]
    },
    {
      "cell_type": "code",
      "source": [
        "import numpy as np"
      ],
      "metadata": {
        "id": "ho0nFJjij54W"
      },
      "execution_count": 2,
      "outputs": []
    },
    {
      "cell_type": "code",
      "source": [
        "from Bio.SeqUtils.ProtParam import ProteinAnalysis\n",
        "egfr_seq = \"\"\"\n",
        "MFNNCEVVLGNLEITYVQRNYDLSFLKTIQEVAGYVLIALNTVE\n",
        "                     RIPLENLQIIRGNMYYENSYALAVLSNYDANKTGLKELPMRNLQEILHGAVRFSNNPA\n",
        "                     LCNVESIQWRDIVSSDFLSNMSMDFQNHLGSCQKCDPSCPNGSCWGAGEENCQKLTKI\n",
        "                     ICAQQCSGRCRGKSPSDCCHNQCAAGCTGPRESDCLVCRKFRDEATCKDTCPPLMLYN\n",
        "                     PTTYQMDVNPEGKYSFGATCVKKCPRNYVVTDHGSCVRACGADSYEMEEDGVRKCKKC\n",
        "                     EGPCRKVCNGIGIGEFKDSLSINATNIKHFKNCTSISGDLHILPVAFRGDSFTHTPPL\n",
        "                     DPQELDILKTVKEITGFLLIQAWPENRTDLHAFENLEIIRGRTKQHGQFSLAVVSLNI\n",
        "                     TSLGLRSLKEISDGDVIISGNKNLCYANTINWKKLFGTSGQKTKIISNRGENSCKATG\n",
        "                     QVCHALCSPEGCWGPEPRDCVSCRNVSRGRECVDKCNLLEGEPREFVENSECIQCHPE\n",
        "                     CLPQAMNITCTGRGPDNCIQCAHYIDGPHCVKTCPAGVMGENNTLVWKYADAGHVCHL\n",
        "                     CHPNCTYGCTGPGLEGCPTNGPKIPSIATGMVGALLLLLVVALGIGLFMRRRHIVRKR\n",
        "                     TLRRLLQERELVEPLTPSGEAPNQALLRILKETEFKKIKVLGSGAFGTVYKGLWIPEG\n",
        "                     EKVKIPVAIKELREATSPKANKEILDEAYVMASVDNPHVCRLLGICLTSTVQLITQLM\n",
        "                     PFGCLLDYVREHKDNIGSQYLLNWCVQIAKGMNYLEDRRLVHRDLAARNVLVKTPQHV\n",
        "                     KITDFGLAKLLGAEEKEYHAEGGKVPIKWMALESILHRIYTHQSDVWSYGVTVWELMT\n",
        "                     FGSKPYDGIPASEISSILEKGERLPQPPICTIDVYMIMVKCWMIDADSRPKFRELIIE\n",
        "                     FSKMARDPQRYLVIQGDERMHLPSPTDSNFYRALMDEEDMDDVVDADEYLIPQQGFFS\n",
        "                     SPSTSRTPLLSSLSATSNNSTVACIDRNGLQSCPIKEDSFLQRYSSDPTGALTEDSID\n",
        "                     DTFLPVPEYINQSVPKRPAGSVQNPVYHNQPLNPAPSRDPHYQDPHSTAVGNPEYLNT\n",
        "                     VQPTCVNSTFDSPAHWAQKGSHQISLDNPDYQQDFFPKEAKPNGIFKGSTAENAEYLR\n",
        "                     VAPQSSEFIGA\n",
        "                     \"\"\"\n",
        "egfr_seq = ''.join(egfr_seq.split())"
      ],
      "metadata": {
        "id": "DNQLyIlEX_iI"
      },
      "execution_count": 3,
      "outputs": []
    },
    {
      "cell_type": "code",
      "source": [
        "egfr_analysed = ProteinAnalysis(egfr_seq)\n",
        "egfr_analysed.molecular_weight() #To calculate the molecular weight of the protein"
      ],
      "metadata": {
        "colab": {
          "base_uri": "https://localhost:8080/"
        },
        "id": "qYdSFIuZbY8E",
        "outputId": "4ebb01ad-01cf-4a18-ea7c-98a872010117"
      },
      "execution_count": 4,
      "outputs": [
        {
          "output_type": "execute_result",
          "data": {
            "text/plain": [
              "128678.59110000057"
            ]
          },
          "metadata": {},
          "execution_count": 4
        }
      ]
    },
    {
      "cell_type": "code",
      "source": [
        "# The .gravy() function is used to calculate the protein's GRAVY value.\n",
        "# GRAVY stands for Grand Average of Hydropathicity.\n",
        "# It is calculated as the sum of the hydropathy values of all amino acids, divided by the number of residues in the sequence.\n",
        "# Hydropathicity is a measure of the hydrophobic or hydrophilic nature of amino acids in a protein.\n",
        "# The hydropathicity of a protein segment can be calculated using the Kyte-Doolittle scale.\n",
        "# Amino acids with non-polar side chains tend to be hydrophobic, while those with polar or charged side chains tend to be hydrophilic.\n",
        "\n",
        "egfr_analysed.gravy() # A negative value indicates that the protein is hydrophilic. A positive score indicates a hydrophobic protein."
      ],
      "metadata": {
        "colab": {
          "base_uri": "https://localhost:8080/"
        },
        "id": "cAHKElYqcbhN",
        "outputId": "9f4f5e94-5794-47bf-d76e-5a9c5dfd561b"
      },
      "execution_count": 5,
      "outputs": [
        {
          "output_type": "execute_result",
          "data": {
            "text/plain": [
              "-0.3321521175453757"
            ]
          },
          "metadata": {},
          "execution_count": 5
        }
      ]
    },
    {
      "cell_type": "markdown",
      "source": [
        "We observe that the GRAVY score for EGFR isoform X1 is negative. This indicates that is a hydrophilic protein. This makes sense when one considers that this is a transmembrane receptor protein that interacts with the intracellular as well as the extracellular fluids, both of which tend to be aqueous."
      ],
      "metadata": {
        "id": "gu_hGQ0BfroM"
      }
    },
    {
      "cell_type": "code",
      "source": [
        "aa_counts = egfr_analysed.count_amino_acids()  # To count the number of times each amino acid is repeated in the sequence.\n",
        "keys = list(aa_counts.keys())\n",
        "values = list(aa_counts.values())\n",
        "sorted_value_index = np.argsort(values)\n",
        "\n",
        "sorted_aa_counts = {keys[i] : values[i] for i in sorted_value_index}\n",
        "print(sorted_aa_counts)"
      ],
      "metadata": {
        "colab": {
          "base_uri": "https://localhost:8080/"
        },
        "id": "tJRYGY_xcRf_",
        "outputId": "e7d7889c-841f-4add-a36b-678534681cfc"
      },
      "execution_count": 6,
      "outputs": [
        {
          "output_type": "stream",
          "name": "stdout",
          "text": [
            "{'W': 13, 'M': 24, 'H': 30, 'F': 34, 'Y': 36, 'Q': 46, 'R': 57, 'C': 58, 'D': 60, 'T': 60, 'K': 63, 'A': 64, 'N': 65, 'I': 69, 'V': 69, 'P': 73, 'E': 74, 'S': 80, 'G': 81, 'L': 101}\n"
          ]
        }
      ]
    },
    {
      "cell_type": "markdown",
      "source": [
        "From the previous code, we infer that the most common amino acid in this sequence is Leucine, an uncharged, non-polar amino acid. Perhaps this amino acid occurs in that part of the receptor that traverses the plasma membrane, as this too is hydrophobic, being composed of lipids."
      ],
      "metadata": {
        "id": "O9updXOvkfRZ"
      }
    },
    {
      "cell_type": "code",
      "source": [
        "egfr_analysed.get_amino_acids_percent() # To compute the total fraction of the sequence that a particular amino acid comprises."
      ],
      "metadata": {
        "colab": {
          "base_uri": "https://localhost:8080/"
        },
        "id": "xZHTWHq3gu0R",
        "outputId": "064eebf3-0860-45d5-b051-ea8875eddb5d"
      },
      "execution_count": 7,
      "outputs": [
        {
          "output_type": "execute_result",
          "data": {
            "text/plain": [
              "{'A': 0.055315471045808126,\n",
              " 'C': 0.05012964563526361,\n",
              " 'D': 0.05185825410544512,\n",
              " 'E': 0.06395851339671564,\n",
              " 'F': 0.029386343993085567,\n",
              " 'G': 0.07000864304235091,\n",
              " 'H': 0.02592912705272256,\n",
              " 'I': 0.059636992221261884,\n",
              " 'K': 0.05445116681071737,\n",
              " 'L': 0.08729472774416594,\n",
              " 'M': 0.020743301642178046,\n",
              " 'N': 0.056179775280898875,\n",
              " 'P': 0.06309420916162489,\n",
              " 'Q': 0.03975799481417459,\n",
              " 'R': 0.049265341400172864,\n",
              " 'S': 0.06914433880726016,\n",
              " 'T': 0.05185825410544512,\n",
              " 'V': 0.059636992221261884,\n",
              " 'W': 0.011235955056179775,\n",
              " 'Y': 0.03111495246326707}"
            ]
          },
          "metadata": {},
          "execution_count": 7
        }
      ]
    },
    {
      "cell_type": "code",
      "source": [
        "egfr_analysed.length # The total number of amino acids in the sequence."
      ],
      "metadata": {
        "colab": {
          "base_uri": "https://localhost:8080/"
        },
        "id": "EaKfeAvmhEmH",
        "outputId": "4088025f-c2cb-4a80-b526-8758e4de374c"
      },
      "execution_count": 8,
      "outputs": [
        {
          "output_type": "execute_result",
          "data": {
            "text/plain": [
              "1157"
            ]
          },
          "metadata": {},
          "execution_count": 8
        }
      ]
    },
    {
      "cell_type": "code",
      "source": [
        "#The aromaticity of a protein is the relative frequency of aromatic amino acids in the protein sequence. These are Phe, Trp and Tyr.\n",
        "\n",
        "egfr_analysed.aromaticity()"
      ],
      "metadata": {
        "colab": {
          "base_uri": "https://localhost:8080/"
        },
        "id": "6TCmC4TYhcSl",
        "outputId": "2ae52e0d-8231-425d-9c0f-d91a3420a15b"
      },
      "execution_count": 9,
      "outputs": [
        {
          "output_type": "execute_result",
          "data": {
            "text/plain": [
              "0.07173725151253241"
            ]
          },
          "metadata": {},
          "execution_count": 9
        }
      ]
    },
    {
      "cell_type": "markdown",
      "source": [
        "EGFR isoform X1 contains relatively few aromatic amino acids."
      ],
      "metadata": {
        "id": "s2VH9b3qiaBF"
      }
    },
    {
      "cell_type": "code",
      "source": [
        "# This function returns the fraction of amino acids that tend to be in\n",
        "# alpha-helices, beta-turns or beta-sheets, in that order.\n",
        "\n",
        "egfr_analysed.secondary_structure_fraction()"
      ],
      "metadata": {
        "colab": {
          "base_uri": "https://localhost:8080/"
        },
        "id": "8Ci7ASmQhk68",
        "outputId": "2ccc09c8-8c20-4412-85c8-17691533c58c"
      },
      "execution_count": 10,
      "outputs": [
        {
          "output_type": "execute_result",
          "data": {
            "text/plain": [
              "(0.2817631806395851, 0.31028522039758, 0.3301642178046672)"
            ]
          },
          "metadata": {},
          "execution_count": 10
        }
      ]
    },
    {
      "cell_type": "markdown",
      "source": [
        "We observe that the highest number of amino acids in EGFR isoform X1 form beta-sheets. This lends further insight into the structure of this protein."
      ],
      "metadata": {
        "id": "MtYxD7lziWFY"
      }
    },
    {
      "cell_type": "code",
      "source": [
        "# This function calculates the isoelectric point of a protein.\n",
        "# This is the pH at which the protein has a net charge of zero or, in other words, is electrically neutral.\n",
        "\n",
        "egfr_analysed.isoelectric_point()"
      ],
      "metadata": {
        "colab": {
          "base_uri": "https://localhost:8080/"
        },
        "id": "3lkpZuT4Ehzb",
        "outputId": "124abafa-f77a-4439-fe59-da3edecedbbe"
      },
      "execution_count": 11,
      "outputs": [
        {
          "output_type": "execute_result",
          "data": {
            "text/plain": [
              "6.140907478332519"
            ]
          },
          "metadata": {},
          "execution_count": 11
        }
      ]
    },
    {
      "cell_type": "markdown",
      "source": [
        "The amino acid sequence was obtained from the [NCBI database](https://www.ncbi.nlm.nih.gov/nuccore/XM_054357418.1).\n",
        "\n",
        "The documentation for the packages used was obtained from the [Biopython website](https://biopython.org/wiki/ProtParam)."
      ],
      "metadata": {
        "id": "N72vH1YEZ07t"
      }
    }
  ]
}