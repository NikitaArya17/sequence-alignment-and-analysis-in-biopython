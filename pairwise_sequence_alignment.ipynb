{
  "nbformat": 4,
  "nbformat_minor": 0,
  "metadata": {
    "colab": {
      "provenance": []
    },
    "kernelspec": {
      "name": "python3",
      "display_name": "Python 3"
    },
    "language_info": {
      "name": "python"
    }
  },
  "cells": [
    {
      "cell_type": "markdown",
      "source": [
        "Pairwise sequence alignment refers to the process of comparing two nucleotide or amino acid sequences to identify regions of similarity. There are two broad types of alignment:\n",
        "\n",
        "\n",
        "\n",
        "*   Global alignment aligns both sequences from end to end, aligning each\n",
        "character in each sequence only once.\n",
        "*   Local alignment aligns subsequences of each sequence, rather than the entire sequence.\n",
        "\n",
        "Pairwise sequence alignment can be performed in Python using the Biopython suite of tools. Here, the `Bio.Align` package will be used to perform local and global alignments. The `pairwise2` package could also be used for the purpose, but it has been deprecated. Two amino acid sequences sourced from the NCBI database - the first subunit of the COX1 protein found in *Saccharomyces cerevisiae* and *Candida albicans* respectively - will be aligned.\n",
        "\n",
        "The effects of applying penalties for mismatches or gaps in the two sequences will also be explored.\n",
        "\n"
      ],
      "metadata": {
        "id": "55C_X3AIn1l2"
      }
    },
    {
      "cell_type": "code",
      "execution_count": 1,
      "metadata": {
        "colab": {
          "base_uri": "https://localhost:8080/"
        },
        "id": "SeFD7brBRO2U",
        "outputId": "55b2ef6c-f4c3-48a9-a8e6-6c7e98e79fe0"
      },
      "outputs": [
        {
          "output_type": "stream",
          "name": "stdout",
          "text": [
            "Collecting biopython\n",
            "  Downloading biopython-1.84-cp310-cp310-manylinux_2_17_x86_64.manylinux2014_x86_64.whl.metadata (12 kB)\n",
            "Requirement already satisfied: numpy in /usr/local/lib/python3.10/dist-packages (from biopython) (1.26.4)\n",
            "Downloading biopython-1.84-cp310-cp310-manylinux_2_17_x86_64.manylinux2014_x86_64.whl (3.2 MB)\n",
            "\u001b[?25l   \u001b[90m━━━━━━━━━━━━━━━━━━━━━━━━━━━━━━━━━━━━━━━━\u001b[0m \u001b[32m0.0/3.2 MB\u001b[0m \u001b[31m?\u001b[0m eta \u001b[36m-:--:--\u001b[0m\r\u001b[2K   \u001b[91m━━━━━━\u001b[0m\u001b[91m╸\u001b[0m\u001b[90m━━━━━━━━━━━━━━━━━━━━━━━━━━━━━━━━━\u001b[0m \u001b[32m0.6/3.2 MB\u001b[0m \u001b[31m16.9 MB/s\u001b[0m eta \u001b[36m0:00:01\u001b[0m\r\u001b[2K   \u001b[91m━━━━━━━━━━━━━━━━━━━━━━━━━━━━━━━━━━━━━━━\u001b[0m\u001b[91m╸\u001b[0m \u001b[32m3.2/3.2 MB\u001b[0m \u001b[31m59.3 MB/s\u001b[0m eta \u001b[36m0:00:01\u001b[0m\r\u001b[2K   \u001b[90m━━━━━━━━━━━━━━━━━━━━━━━━━━━━━━━━━━━━━━━━\u001b[0m \u001b[32m3.2/3.2 MB\u001b[0m \u001b[31m41.7 MB/s\u001b[0m eta \u001b[36m0:00:00\u001b[0m\n",
            "\u001b[?25hInstalling collected packages: biopython\n",
            "Successfully installed biopython-1.84\n"
          ]
        }
      ],
      "source": [
        "!pip install biopython"
      ]
    },
    {
      "cell_type": "code",
      "source": [
        "from Bio import Align\n",
        "from Bio.Align import substitution_matrices\n",
        "aligner = Align.PairwiseAligner()"
      ],
      "metadata": {
        "id": "vk2awY6ARbDd"
      },
      "execution_count": 34,
      "outputs": []
    },
    {
      "cell_type": "code",
      "source": [
        "cox1_s_cerevisiae = \"MVQRWLYSTNAKDIAVLYFMLAIFSGMAGTAMSLIIRLELAAPGSQYLHGNSQLFNVLVVGHAVLMIFFLVMPALIGGFGNYLLPLMIGATDTAFPRINNIAFWVLPMGLVCLVTSTLVESGAGTGWTVYPPLSSIQAHSGPSVDLAIFALHLTSISSLLGAINFIVTTLNMRTNGMTMHKLPLFVWSIFITAFLLLLSLPVLSAGITMLLLDRNFNTSFFEVSGGGDPILYEHLFWFFGHPEVYILIIPGFGIISHVVSTYSKKPVFGEISMVYAMASIGLLGFLVWSHHMYIVGLDADTRAYFTSATMIIAIPTGIKIFSWLATIHGGSIRLATPMLYAIAFLFLFTMGGLTGVALANASLDVAFHDTYYVVGHFHYVLSMGAIFSLFAGYYYWSPQILGLNYNEKLAQIQFWLIFIGANVIFFPMHFLGINGMPRRIPDYPDAFAGWNYVASIGSFIATLSLFLFIYILYDQLVNGLNNKVNNKSVIYNKAPDFVESNTIFNLNTVKSSSIEFLLTSPPAVHSFNTPAVQS\"\n",
        "\n",
        "cox1_c_albicans = \"MSYVTRWLFSTSHKDIGILYLIYGMVSAMVATGMSVIIRLELSGPGPMFLHGNNQVFNVLVTGHAIAMIFLFVMPILIGSFGNYFLPIMIGAVDMAFARLNNISFWCLPPALVCVIASVLIETGAGTGWTVYPPLSSISAHSGPSVDLAIFAIHLTSISSLLGAINFIVTTLNMRSIGIHMIDMPLFVWAIFFTAILLLLSLPVLTAGVTLLLMDRNFNTGFYEVAAGGDPILYEHLFYFFGHPEVYIIIIPGFGIISHVISTYTKKPIFGQIGMIYAIGSIGLLGFLVWSHHMYVVGLDIDSRAYFTSATMVIAIPTGIKIFSWLATLYGGELRLAVPMLFALGFLFLFTIGGLTGVMLSNASIDVAFHDTYYVVGHFHYVLSMGALFSLIAGYYYWGPAMFGLKYNKVLAEVHYWLLFVSVNIIFLPMHFLGLNGMPRRIPQYPDAFVGWNVVSSWGSIMSVISVLIGLYSVLVQLTNGENEREEIQVTPDYLESNNTRDVRDSDLELITSRPAQYHTFSELPILIQQI\""
      ],
      "metadata": {
        "id": "5OqFBQO4TlFd"
      },
      "execution_count": 45,
      "outputs": []
    },
    {
      "cell_type": "markdown",
      "source": [
        "First, the two sequences will be aligned globally, with default parameters. There are no gap penalties and identical characters are scored 1, else 0."
      ],
      "metadata": {
        "id": "AN2emGkjVZFK"
      }
    },
    {
      "cell_type": "code",
      "source": [
        "global_alignments = aligner.align(cox1_s_cerevisiae, cox1_c_albicans)\n",
        "print(global_alignments[0])"
      ],
      "metadata": {
        "colab": {
          "base_uri": "https://localhost:8080/"
        },
        "id": "YZDKIRxMUi-p",
        "outputId": "dbe78cf7-c604-420b-b530-c7f6e921d061"
      },
      "execution_count": 46,
      "outputs": [
        {
          "output_type": "stream",
          "name": "stdout",
          "text": [
            "target            0 M--VQ-RWLY-STNA--KDIAV--LYFMLAIFS-GM--AGT--A--MSL-IIRLELAA--\n",
            "                  0 |--|--|||--||----|||----||--|-|---||--|----|--||--||||||----\n",
            "query             0 MSYV-TRWL-FST--SHKDI--GILY--L-I--YGMVSA--MVATGMS-VIIRLEL--SG\n",
            "\n",
            "target           42 PGSQY---LHGNS-QL-FNVLVV-GHAVL--MIFFL-VMPA-LIGG-FGNY-LLPL-MIG\n",
            "                 60 ||------||||--|--|||||--|||----|||-|-|||--|||--||||-|-|--|||\n",
            "query            44 PG---PMFLHGN-NQ-VFNVLV-TGHA--IAMIF-LFVMP-ILIG-SFGNYFL-P-IMIG\n",
            "\n",
            "target           89 AT-DT-AFP-RI-NNIA-FWV-LPMG--LVCLVT--STLV--ES-GAGTGWTVYPPLSSI\n",
            "                120 |--|--||--|--|||--||--||----|||-|---|--|--|--|||||||||||||||\n",
            "query            91 A-VD-MAF-AR-LNNI-SFW-CLP--PALVC-V-IAS--VLIE-TGAGTGWTVYPPLSSI\n",
            "\n",
            "target          136 Q-AHSGPSVDLAIFAL-HLTSISSLLGAINFIVTTLNMRTN--G--MT--MHKLPLFVWS\n",
            "                180 --|||||||||||||--||||||||||||||||||||||----|--|---|---|||||-\n",
            "query           138 -SAHSGPSVDLAIFA-IHLTSISSLLGAINFIVTTLNMR--SIGIHM-IDM---PLFVW-\n",
            "\n",
            "target          188 -IFI-TAF-LLLLSLPVLS-AGI-TMLLL-DRNFNTS-FF-EVS--GGGDPILYEHLFW-\n",
            "                240 -||--||--|||||||||--||--|-|||-||||||--|--||---||-|||||||||--\n",
            "query           189 AIF-FTA-ILLLLSLPVL-TAG-VT-LLLMDRNFNT-GF-YEV-AAGG-DPILYEHLF-Y\n",
            "\n",
            "target          237 FFGHPEVYILII-PGFGIISHVV-STYS-KKPV-FGE-IS-MV-YAMA--SIGLLGFLVW\n",
            "                300 |||||||||-||-|||||||||--|||--|||--||--|--|--||----||||||||||\n",
            "query           239 FFGHPEVYI-IIIPGFGIISHV-ISTY-TKKP-IFG-QI-GM-IYA--IGSIGLLGFLVW\n",
            "\n",
            "target          288 SHHMYIV-GLDA-DT-RAYFTSATM-IIAIPTGIKIFSWLATIH--GGSI--RLAT-PML\n",
            "                360 |||||-|-|||--|--|||||||||-|-||||||||||||||----||----|||--|||\n",
            "query           290 SHHMY-VVGLD-ID-SRAYFTSATMVI-AIPTGIKIFSWLAT--LYGG--ELRLA-VPML\n",
            "\n",
            "target          339 Y-AIA--FLFLFTM-GGLTGVA-LA-NASL-DVAFHDTYYVVGHFHYVLSMGAI-FSLF-\n",
            "                420 --|----||||||--||||||--|--|||--||||||||||||||||||||||--|||--\n",
            "query           341 -FA--LGFLFLFT-IGGLTGV-ML-SNAS-IDVAFHDTYYVVGHFHYVLSMGA-LFSL-I\n",
            "\n",
            "target          390 AGYYYWS-PQIL---GLN-YNEK-LAQIQF----WLI-FIGANV---I-FF-PMHFLGI-\n",
            "                480 ||||||--|------||--||-|-||--------||--|----|---|-|--||||||--\n",
            "query           392 AGYYYW-GP---AMFGL-KYN-KVLA----EVHYWL-LF----VSVNIIF-LPMHFLG-L\n",
            "\n",
            "target          433 NGMPRRIPD-YPDAFA-GWNYVA-SI--GSFIATL-S----LFLFIYI-LYDQ--LV---\n",
            "                540 ||||||||--|||||--|||-|--|---||-|----|----|---|---||----||---\n",
            "query           435 NGMPRRIP-QYPDAF-VGWN-V-VS-SWGS-I---MSVISVL---I--GLY--SVLVQLT\n",
            "\n",
            "target          477 NGL-NNKVNNKSV----IYNKA---PDFV--ESNTIFNLNT--VK--SSSI--EFLL-TS\n",
            "                600 ||--|------------|-------||----|||---|--|--|---|-----|-|--||\n",
            "query           479 NG-EN--------EREEI----QVTPD--YLESN---N--TRDV-RDS---DLE-L-ITS\n",
            "\n",
            "target          520 -PPAV--HSFNT----PAV---QS-- 534\n",
            "                660 -|-|---|---|----|-----|--- 686\n",
            "query           513 RP-A-QYH---TFSELP--ILIQ-QI 531\n",
            "\n"
          ]
        }
      ]
    },
    {
      "cell_type": "code",
      "source": [
        "#The following code returns the indices of the subsequences that aligned to each other in the first alignment.\n",
        "global_alignments[0].aligned"
      ],
      "metadata": {
        "colab": {
          "base_uri": "https://localhost:8080/"
        },
        "id": "hCAm3yOCUdDU",
        "outputId": "98a27fc6-217d-4898-fb11-bb0741b94f2d"
      },
      "execution_count": 47,
      "outputs": [
        {
          "output_type": "execute_result",
          "data": {
            "text/plain": [
              "array([[[  0,   1],\n",
              "        [  1,   2],\n",
              "        [  3,   6],\n",
              "        [  7,   9],\n",
              "        [ 11,  14],\n",
              "        [ 16,  18],\n",
              "        [ 20,  21],\n",
              "        [ 22,  23],\n",
              "        [ 25,  27],\n",
              "        [ 27,  28],\n",
              "        [ 30,  31],\n",
              "        [ 31,  33],\n",
              "        [ 34,  40],\n",
              "        [ 42,  44],\n",
              "        [ 47,  51],\n",
              "        [ 52,  53],\n",
              "        [ 54,  59],\n",
              "        [ 60,  63],\n",
              "        [ 65,  68],\n",
              "        [ 69,  70],\n",
              "        [ 70,  73],\n",
              "        [ 74,  77],\n",
              "        [ 78,  82],\n",
              "        [ 82,  83],\n",
              "        [ 84,  85],\n",
              "        [ 86,  90],\n",
              "        [ 91,  92],\n",
              "        [ 93,  95],\n",
              "        [ 96,  97],\n",
              "        [ 98, 101],\n",
              "        [102, 104],\n",
              "        [105, 107],\n",
              "        [109, 112],\n",
              "        [113, 114],\n",
              "        [115, 116],\n",
              "        [118, 119],\n",
              "        [119, 120],\n",
              "        [121, 136],\n",
              "        [137, 150],\n",
              "        [151, 173],\n",
              "        [175, 176],\n",
              "        [176, 177],\n",
              "        [178, 179],\n",
              "        [182, 187],\n",
              "        [188, 190],\n",
              "        [191, 193],\n",
              "        [194, 203],\n",
              "        [204, 206],\n",
              "        [207, 208],\n",
              "        [209, 212],\n",
              "        [212, 218],\n",
              "        [219, 220],\n",
              "        [221, 223],\n",
              "        [224, 226],\n",
              "        [227, 236],\n",
              "        [237, 246],\n",
              "        [247, 249],\n",
              "        [249, 258],\n",
              "        [259, 262],\n",
              "        [263, 266],\n",
              "        [267, 269],\n",
              "        [270, 271],\n",
              "        [272, 273],\n",
              "        [274, 276],\n",
              "        [278, 293],\n",
              "        [294, 295],\n",
              "        [295, 298],\n",
              "        [299, 300],\n",
              "        [301, 310],\n",
              "        [310, 311],\n",
              "        [312, 326],\n",
              "        [328, 330],\n",
              "        [332, 335],\n",
              "        [336, 339],\n",
              "        [340, 341],\n",
              "        [343, 349],\n",
              "        [350, 356],\n",
              "        [357, 358],\n",
              "        [359, 362],\n",
              "        [363, 385],\n",
              "        [386, 389],\n",
              "        [390, 396],\n",
              "        [397, 398],\n",
              "        [401, 403],\n",
              "        [404, 406],\n",
              "        [407, 408],\n",
              "        [408, 410],\n",
              "        [414, 416],\n",
              "        [417, 418],\n",
              "        [422, 423],\n",
              "        [423, 424],\n",
              "        [424, 425],\n",
              "        [426, 432],\n",
              "        [433, 441],\n",
              "        [442, 447],\n",
              "        [448, 451],\n",
              "        [452, 453],\n",
              "        [454, 455],\n",
              "        [456, 458],\n",
              "        [459, 460],\n",
              "        [463, 464],\n",
              "        [464, 465],\n",
              "        [468, 469],\n",
              "        [471, 473],\n",
              "        [475, 477],\n",
              "        [477, 479],\n",
              "        [480, 481],\n",
              "        [489, 490],\n",
              "        [494, 496],\n",
              "        [498, 501],\n",
              "        [504, 505],\n",
              "        [507, 508],\n",
              "        [508, 509],\n",
              "        [510, 511],\n",
              "        [514, 515],\n",
              "        [516, 517],\n",
              "        [518, 520],\n",
              "        [520, 521],\n",
              "        [522, 523],\n",
              "        [524, 525],\n",
              "        [528, 529],\n",
              "        [529, 530],\n",
              "        [532, 533]],\n",
              "\n",
              "       [[  0,   1],\n",
              "        [  3,   4],\n",
              "        [  5,   8],\n",
              "        [  9,  11],\n",
              "        [ 13,  16],\n",
              "        [ 18,  20],\n",
              "        [ 20,  21],\n",
              "        [ 21,  22],\n",
              "        [ 23,  25],\n",
              "        [ 27,  28],\n",
              "        [ 30,  31],\n",
              "        [ 33,  35],\n",
              "        [ 36,  42],\n",
              "        [ 44,  46],\n",
              "        [ 49,  53],\n",
              "        [ 54,  55],\n",
              "        [ 56,  61],\n",
              "        [ 62,  65],\n",
              "        [ 67,  70],\n",
              "        [ 70,  71],\n",
              "        [ 72,  75],\n",
              "        [ 76,  79],\n",
              "        [ 80,  84],\n",
              "        [ 85,  86],\n",
              "        [ 86,  87],\n",
              "        [ 88,  92],\n",
              "        [ 93,  94],\n",
              "        [ 95,  97],\n",
              "        [ 98,  99],\n",
              "        [100, 103],\n",
              "        [104, 106],\n",
              "        [107, 109],\n",
              "        [111, 114],\n",
              "        [114, 115],\n",
              "        [117, 118],\n",
              "        [118, 119],\n",
              "        [121, 122],\n",
              "        [123, 138],\n",
              "        [139, 152],\n",
              "        [153, 175],\n",
              "        [177, 178],\n",
              "        [180, 181],\n",
              "        [183, 184],\n",
              "        [184, 189],\n",
              "        [190, 192],\n",
              "        [193, 195],\n",
              "        [196, 205],\n",
              "        [206, 208],\n",
              "        [209, 210],\n",
              "        [210, 213],\n",
              "        [214, 220],\n",
              "        [221, 222],\n",
              "        [223, 225],\n",
              "        [227, 229],\n",
              "        [229, 238],\n",
              "        [239, 248],\n",
              "        [248, 250],\n",
              "        [251, 260],\n",
              "        [261, 264],\n",
              "        [265, 268],\n",
              "        [269, 271],\n",
              "        [272, 273],\n",
              "        [274, 275],\n",
              "        [276, 278],\n",
              "        [280, 295],\n",
              "        [295, 296],\n",
              "        [297, 300],\n",
              "        [301, 302],\n",
              "        [303, 312],\n",
              "        [313, 314],\n",
              "        [314, 328],\n",
              "        [330, 332],\n",
              "        [334, 337],\n",
              "        [338, 341],\n",
              "        [342, 343],\n",
              "        [345, 351],\n",
              "        [352, 358],\n",
              "        [359, 360],\n",
              "        [361, 364],\n",
              "        [365, 387],\n",
              "        [388, 391],\n",
              "        [392, 398],\n",
              "        [399, 400],\n",
              "        [403, 405],\n",
              "        [406, 408],\n",
              "        [408, 409],\n",
              "        [410, 412],\n",
              "        [416, 418],\n",
              "        [419, 420],\n",
              "        [420, 421],\n",
              "        [424, 425],\n",
              "        [426, 427],\n",
              "        [428, 434],\n",
              "        [435, 443],\n",
              "        [444, 449],\n",
              "        [450, 453],\n",
              "        [453, 454],\n",
              "        [455, 456],\n",
              "        [458, 460],\n",
              "        [460, 461],\n",
              "        [462, 463],\n",
              "        [467, 468],\n",
              "        [468, 469],\n",
              "        [470, 472],\n",
              "        [474, 476],\n",
              "        [479, 481],\n",
              "        [482, 483],\n",
              "        [487, 488],\n",
              "        [491, 493],\n",
              "        [495, 498],\n",
              "        [498, 499],\n",
              "        [499, 500],\n",
              "        [502, 503],\n",
              "        [505, 506],\n",
              "        [508, 509],\n",
              "        [509, 510],\n",
              "        [511, 513],\n",
              "        [514, 515],\n",
              "        [515, 516],\n",
              "        [518, 519],\n",
              "        [519, 520],\n",
              "        [524, 525],\n",
              "        [528, 529]]])"
            ]
          },
          "metadata": {},
          "execution_count": 47
        }
      ]
    },
    {
      "cell_type": "code",
      "source": [
        "# The score for an alignment can be accessed with the `score` attribute\n",
        "\n",
        "global_alignments[0].score"
      ],
      "metadata": {
        "colab": {
          "base_uri": "https://localhost:8080/"
        },
        "id": "Ky5U5_7gviL5",
        "outputId": "e7df7e6f-1469-41f1-97fa-52eaf2cfa8df"
      },
      "execution_count": 48,
      "outputs": [
        {
          "output_type": "execute_result",
          "data": {
            "text/plain": [
              "379.0"
            ]
          },
          "metadata": {},
          "execution_count": 48
        }
      ]
    },
    {
      "cell_type": "markdown",
      "source": [
        "We see that the first alignment has a score of 379. As we are only applying a score of 1 to all matches, and one of 0 to gaps and mismatches, it follows that, in the first alignment, the two sequences have 379 bases in common."
      ],
      "metadata": {
        "id": "73r-OH6twmVY"
      }
    },
    {
      "cell_type": "code",
      "source": [
        "print(len(cox1_s_cerevisiae))\n",
        "print(len(cox1_c_albicans))"
      ],
      "metadata": {
        "colab": {
          "base_uri": "https://localhost:8080/"
        },
        "id": "v_ZcKi9Mw3r6",
        "outputId": "b339a8f0-8bce-47a3-9b1e-f1942e74a604"
      },
      "execution_count": 52,
      "outputs": [
        {
          "output_type": "stream",
          "name": "stdout",
          "text": [
            "534\n",
            "531\n"
          ]
        }
      ]
    },
    {
      "cell_type": "code",
      "source": [
        "total_residues = len(cox1_s_cerevisiae) + len(cox1_c_albicans)\n",
        "identical_prop = global_alignments[0].score / total_residues\n",
        "print(identical_prop)"
      ],
      "metadata": {
        "colab": {
          "base_uri": "https://localhost:8080/"
        },
        "id": "y2aLtog3w-nJ",
        "outputId": "c48a38a5-e143-4ddb-88e4-9eea09240940"
      },
      "execution_count": 53,
      "outputs": [
        {
          "output_type": "stream",
          "name": "stdout",
          "text": [
            "0.355868544600939\n"
          ]
        }
      ]
    },
    {
      "cell_type": "markdown",
      "source": [
        "From the given calculation, we can estimate that approximately 35% of the total compared amino acids are identical."
      ],
      "metadata": {
        "id": "e5dlD_Tc-ZVy"
      }
    },
    {
      "cell_type": "markdown",
      "source": [
        "We will now see what happens when mismatches are penalised. For each mismatch, 1 points will be deducted from the total score. Matches will be awarded 2 points. Gaps will not be penalised."
      ],
      "metadata": {
        "id": "ryYXQ9Jw3O3w"
      }
    },
    {
      "cell_type": "code",
      "source": [
        "aligner.match_score = 2\n",
        "aligner.mismatch_score = -1\n",
        "penalised_global_alignments = aligner.align(cox1_s_cerevisiae, cox1_c_albicans)\n",
        "print(penalised_global_alignments[0])"
      ],
      "metadata": {
        "colab": {
          "base_uri": "https://localhost:8080/"
        },
        "id": "HI8ya6ni3qJo",
        "outputId": "7f2f8054-2ee1-46a4-9cd3-e817f8c251c6"
      },
      "execution_count": 54,
      "outputs": [
        {
          "output_type": "stream",
          "name": "stdout",
          "text": [
            "target            0 M--VQ-RWLY-STNA--KDIAV--LYFMLAIFS-GM--AGT--A--MSL-IIRLELAA--\n",
            "                  0 |--|--|||--||----|||----||--|-|---||--|----|--||--||||||----\n",
            "query             0 MSYV-TRWL-FST--SHKDI--GILY--L-I--YGMVSA--MVATGMS-VIIRLEL--SG\n",
            "\n",
            "target           42 PGSQY---LHGNS-QL-FNVLVV-GHAVL--MIFFL-VMPA-LIGG-FGNY-LLPL-MIG\n",
            "                 60 ||------||||--|--|||||--|||----|||-|-|||--|||--||||-|-|--|||\n",
            "query            44 PG---PMFLHGN-NQ-VFNVLV-TGHA--IAMIF-LFVMP-ILIG-SFGNYFL-P-IMIG\n",
            "\n",
            "target           89 AT-DT-AFP-RI-NNIA-FWV-LPMG--LVCLVT--STLV--ES-GAGTGWTVYPPLSSI\n",
            "                120 |--|--||--|--|||--||--||----|||-|---|--|--|--|||||||||||||||\n",
            "query            91 A-VD-MAF-AR-LNNI-SFW-CLP--PALVC-V-IAS--VLIE-TGAGTGWTVYPPLSSI\n",
            "\n",
            "target          136 Q-AHSGPSVDLAIFAL-HLTSISSLLGAINFIVTTLNMRTN--G--MT--MHKLPLFVWS\n",
            "                180 --|||||||||||||--||||||||||||||||||||||----|--|---|---|||||-\n",
            "query           138 -SAHSGPSVDLAIFA-IHLTSISSLLGAINFIVTTLNMR--SIGIHM-IDM---PLFVW-\n",
            "\n",
            "target          188 -IFI-TAF-LLLLSLPVLS-AGI-TMLLL-DRNFNTS-FF-EVS--GGGDPILYEHLFW-\n",
            "                240 -||--||--|||||||||--||--|-|||-||||||--|--||---||-|||||||||--\n",
            "query           189 AIF-FTA-ILLLLSLPVL-TAG-VT-LLLMDRNFNT-GF-YEV-AAGG-DPILYEHLF-Y\n",
            "\n",
            "target          237 FFGHPEVYILII-PGFGIISHVV-STYS-KKPV-FGE-IS-MV-YAMA--SIGLLGFLVW\n",
            "                300 |||||||||-||-|||||||||--|||--|||--||--|--|--||----||||||||||\n",
            "query           239 FFGHPEVYI-IIIPGFGIISHV-ISTY-TKKP-IFG-QI-GM-IYA--IGSIGLLGFLVW\n",
            "\n",
            "target          288 SHHMYIV-GLDA-DT-RAYFTSATM-IIAIPTGIKIFSWLATIH--GGSI--RLAT-PML\n",
            "                360 |||||-|-|||--|--|||||||||-|-||||||||||||||----||----|||--|||\n",
            "query           290 SHHMY-VVGLD-ID-SRAYFTSATMVI-AIPTGIKIFSWLAT--LYGG--ELRLA-VPML\n",
            "\n",
            "target          339 Y-AIA--FLFLFTM-GGLTGVA-LA-NASL-DVAFHDTYYVVGHFHYVLSMGAI-FSLF-\n",
            "                420 --|----||||||--||||||--|--|||--||||||||||||||||||||||--|||--\n",
            "query           341 -FA--LGFLFLFT-IGGLTGV-ML-SNAS-IDVAFHDTYYVVGHFHYVLSMGA-LFSL-I\n",
            "\n",
            "target          390 AGYYYWS-PQIL---GLN-YNEK-LAQIQF----WLI-FIGANV---I-FF-PMHFLGI-\n",
            "                480 ||||||--|------||--||-|-||--------||--|----|---|-|--||||||--\n",
            "query           392 AGYYYW-GP---AMFGL-KYN-KVLA----EVHYWL-LF----VSVNIIF-LPMHFLG-L\n",
            "\n",
            "target          433 NGMPRRIPD-YPDAFA-GWNYVA-SI--GSFIATL-S----LFLFIYI-LYDQ--LV---\n",
            "                540 ||||||||--|||||--|||-|--|---||-|----|----|---|---||----||---\n",
            "query           435 NGMPRRIP-QYPDAF-VGWN-V-VS-SWGS-I---MSVISVL---I--GLY--SVLVQLT\n",
            "\n",
            "target          477 NGL-NNKVNNKSV----IYNKA---PDFV--ESNTIFNLNT--VK--SSSI--EFLL-TS\n",
            "                600 ||--|------------|-------||----|||---|--|--|---|-----|-|--||\n",
            "query           479 NG-EN--------EREEI----QVTPD--YLESN---N--TRDV-RDS---DLE-L-ITS\n",
            "\n",
            "target          520 -PPAV--HSFNT----PAV---QS-- 534\n",
            "                660 -|-|---|---|----|-----|--- 686\n",
            "query           513 RP-A-QYH---TFSELP--ILIQ-QI 531\n",
            "\n"
          ]
        }
      ]
    },
    {
      "cell_type": "code",
      "source": [
        "penalised_global_alignments[0].score"
      ],
      "metadata": {
        "colab": {
          "base_uri": "https://localhost:8080/"
        },
        "id": "c2NjbJp74Eck",
        "outputId": "33c85125-b446-4480-924a-63468cff9101"
      },
      "execution_count": 55,
      "outputs": [
        {
          "output_type": "execute_result",
          "data": {
            "text/plain": [
              "758.0"
            ]
          },
          "metadata": {},
          "execution_count": 55
        }
      ]
    },
    {
      "cell_type": "code",
      "source": [
        "print(global_alignments[0].score)\n",
        "\n",
        "#Theoretically, we assume that this score means that all the characters matched in the first alignment, and there were no gaps or mismatches.\n",
        "#If, as above, we award matches with +2, then:\n",
        "\n",
        "ideal_score = 2 * global_alignments[0].score\n",
        "print(ideal_score)\n",
        "\n",
        "#We see that this exactly matches the score that we obtained above, while scoring matches with 2, penalising mismatches by 1 and scoring gaps as 0.\n",
        "#We may conclude, from this calculation, that there are no mismatches in the first global alignment. However, there may be gaps.\n",
        "#Printing out the first alignment, as we have done above, confirms this brief analysis.\n",
        ""
      ],
      "metadata": {
        "colab": {
          "base_uri": "https://localhost:8080/"
        },
        "id": "hx7a97nQ4rTS",
        "outputId": "a41db49f-e735-41d8-abe4-ce9853dc4eda"
      },
      "execution_count": 56,
      "outputs": [
        {
          "output_type": "stream",
          "name": "stdout",
          "text": [
            "379.0\n",
            "758.0\n"
          ]
        }
      ]
    },
    {
      "cell_type": "markdown",
      "source": [
        "Now, in addition to the mismatch penalty specified previously, we will penalise gaps.\n",
        "\n",
        "0.5 points will be deducted for opening a gap.\n",
        "\n",
        "0.1 points will be deducted for extending it."
      ],
      "metadata": {
        "id": "oo2AUArY6ERT"
      }
    },
    {
      "cell_type": "code",
      "source": [
        "aligner.match_score = 2\n",
        "aligner.mismatch_score = -1\n",
        "aligner.open_gap_score = -0.5\n",
        "aligner.extend_gap_score = -0.1\n",
        "aligner.target_end_gap_score = 0.0\n",
        "aligner.query_end_gap_score = 0.0\n",
        "\n",
        "gap_penalised_global_alignments = aligner.align(cox1_s_cerevisiae, cox1_c_albicans)\n",
        "print(gap_penalised_global_alignments[0])"
      ],
      "metadata": {
        "colab": {
          "base_uri": "https://localhost:8080/"
        },
        "id": "aqpr3-gM6mXm",
        "outputId": "29a27830-0478-4363-84ca-d2a9eb4cda54"
      },
      "execution_count": 57,
      "outputs": [
        {
          "output_type": "stream",
          "name": "stdout",
          "text": [
            "target            0 M--VQRWLYST--NAKD--IAVLYFMLAI-FSGM-----A-GTAMSLIIRLEL--AAPG-\n",
            "                  0 |--|.|||.||----||--|--||--|-|---||-----|-|--||.||||||----||-\n",
            "query             0 MSYVTRWLFSTSH--KDIGI--LY--L-IY--GMVSAMVATG--MSVIIRLELSG--PGP\n",
            "\n",
            "target           44 --SQYLHGNSQLFNVLVVGH--AVLMIF-FLVMPALIGGFGNYLLPLMIGATDTAFPRIN\n",
            "                 60 -----||||.|.|||||.||--|--|||-|-|||.|||.||||.||.||||.|.||.|.|\n",
            "query            47 MF---LHGNNQVFNVLVTGHAIA--MIFLF-VMPILIGSFGNYFLPIMIGAVDMAFARLN\n",
            "\n",
            "target           99 NIAFWVLP--MGLVCLV--TSTLV--ESGAGTGWTVYPPLSSIQAHSGPSVDLAIFALHL\n",
            "                120 ||.||.||----|||-|---|--|--|.|||||||||||||||.|||||||||||||.||\n",
            "query           101 NISFWCLPPA--LVC-VIA-S--VLIETGAGTGWTVYPPLSSISAHSGPSVDLAIFAIHL\n",
            "\n",
            "target          153 TSISSLLGAINFIVTTLNMR--TNG--M--TMHKLPLFVWSIFITAFLLLLSLPVLSAGI\n",
            "                180 ||||||||||||||||||||----|--|---|---|||||.||.||.|||||||||.||.\n",
            "query           155 TSISSLLGAINFIVTTLNMRSI--GIHMID-M---PLFVWAIFFTAILLLLSLPVLTAGV\n",
            "\n",
            "target          207 TMLLL-DRNFNT-SFF-EV--SGGGDPILYEHLFWFFGHPEVYILIIPGFGIISHVVSTY\n",
            "                240 |-|||-||||||---|-||----|||||||||||.|||||||||.|||||||||||.|||\n",
            "query           209 T-LLLMDRNFNTG--FYEVAA--GGDPILYEHLFYFFGHPEVYIIIIPGFGIISHVISTY\n",
            "\n",
            "target          262 SKKPVFGEISMVYA--MASIGLLGFLVWSHHMYIVGLDADTRAYFTSATMIIAIPTGIKI\n",
            "                300 .|||.||.|.|.||----|||||||||||||||.||||.|.|||||||||.|||||||||\n",
            "query           264 TKKPIFGQIGMIYAIG--SIGLLGFLVWSHHMYVVGLDIDSRAYFTSATMVIAIPTGIKI\n",
            "\n",
            "target          320 FSWLAT--IHGG--SIRLATPML-YAIA--FLFLFTMGGLTGVALANASLDVAFHDTYYV\n",
            "                360 ||||||----||----|||.|||----|--||||||.||||||.|.|||.||||||||||\n",
            "query           322 FSWLATLY--GGEL--RLAVPMLF---ALGFLFLFTIGGLTGVMLSNASIDVAFHDTYYV\n",
            "\n",
            "target          373 VGHFHYVLSMGAIFSLFAGYYYWSP---QILGLNYNEK-LA----QIQFWLIF----IGA\n",
            "                420 ||||||||||||.|||.||||||.|------||.||-|-||--------||.|----|--\n",
            "query           375 VGHFHYVLSMGALFSLIAGYYYWGPAMF---GLKYN-KVLAEVHY----WLLFVSVNI--\n",
            "\n",
            "target          421 NVIFFPMHFLGINGMPRRIPDYPDAFAGWNYV-----ASIGSFIATLS-LFLFIYI-LY-\n",
            "                480 --||.||||||.||||||||.|||||.|||-|------||.|.|---|-|-----|-||-\n",
            "query           425 --IFLPMHFLGLNGMPRRIPQYPDAFVGWN-VVSSWG-SIMSVI---SVL-----IGLYS\n",
            "\n",
            "target          473 -DQLV---NGLN------NKV-NNKSVIYNKAPD--FVESNTIFNLNT--V--KS--SSI\n",
            "                540 ---||---||.|--------|-----------||----|||-----||--|---|-----\n",
            "query           473 V--LVQLTNGENEREEIQ--VT----------PDYL--ESN-----NTRDVRD-SDL---\n",
            "\n",
            "target          514 EFLL-TSPPA--VHSFNT----P---AVQS-- 534\n",
            "                600 |--|-||.||---|---|----|-----|--- 632\n",
            "query           508 E--LITSRPAQY-H---TFSELPILI--Q-QI 531\n",
            "\n"
          ]
        }
      ]
    },
    {
      "cell_type": "code",
      "source": [
        "round(gap_penalised_global_alignments[0].score, 1)"
      ],
      "metadata": {
        "colab": {
          "base_uri": "https://localhost:8080/"
        },
        "id": "gFd2LTx47Xwv",
        "outputId": "03249496-6ad2-41b9-f736-5c1a2345d5d2"
      },
      "execution_count": 58,
      "outputs": [
        {
          "output_type": "execute_result",
          "data": {
            "text/plain": [
              "649.1"
            ]
          },
          "metadata": {},
          "execution_count": 58
        }
      ]
    },
    {
      "cell_type": "markdown",
      "source": [
        "As expected, the penalisation of gaps has resulted in a decrease in the final score."
      ],
      "metadata": {
        "id": "2upHqY1G89zR"
      }
    },
    {
      "cell_type": "markdown",
      "source": [
        "Next, the sequences will be aligned locally, with default parameters. There are no gap penalties and identical characters are scored 1, else 0."
      ],
      "metadata": {
        "id": "R_Vs9SCuVkiZ"
      }
    },
    {
      "cell_type": "code",
      "source": [
        "aligner.mode = 'local'\n",
        "\n",
        "#Restoring all the score attributes to their default values\n",
        "aligner.match_score = 1\n",
        "aligner.mismatch_score = 0\n",
        "aligner.open_gap_score = 0.0\n",
        "aligner.extend_gap_score = 0.0\n",
        "aligner.target_end_gap_score = 0.0\n",
        "aligner.query_end_gap_score = 0.0\n",
        "\n",
        "local_alignments = aligner.align(cox1_s_cerevisiae, cox1_c_albicans)\n",
        "print(local_alignments[0])"
      ],
      "metadata": {
        "id": "YtuGpiRNVrlT",
        "colab": {
          "base_uri": "https://localhost:8080/"
        },
        "outputId": "a124149a-c0ba-4c8f-8815-0cbf7cfe2424"
      },
      "execution_count": 59,
      "outputs": [
        {
          "output_type": "stream",
          "name": "stdout",
          "text": [
            "target            0 M--VQ-RWLY-STNA--KDIAV--LYFMLAIFS-GM--AGT--A--MSL-IIRLELAA--\n",
            "                  0 |--|--|||--||----|||----||--|-|---||--|----|--||--||||||----\n",
            "query             0 MSYV-TRWL-FST--SHKDI--GILY--L-I--YGMVSA--MVATGMS-VIIRLEL--SG\n",
            "\n",
            "target           42 PGSQY---LHGNS-QL-FNVLVV-GHAVL--MIFFL-VMPA-LIGG-FGNY-LLPL-MIG\n",
            "                 60 ||------||||--|--|||||--|||----|||-|-|||--|||--||||-|-|--|||\n",
            "query            44 PG---PMFLHGN-NQ-VFNVLV-TGHA--IAMIF-LFVMP-ILIG-SFGNYFL-P-IMIG\n",
            "\n",
            "target           89 AT-DT-AFP-RI-NNIA-FWV-LPMG--LVCLVT--STLV--ES-GAGTGWTVYPPLSSI\n",
            "                120 |--|--||--|--|||--||--||----|||-|---|--|--|--|||||||||||||||\n",
            "query            91 A-VD-MAF-AR-LNNI-SFW-CLP--PALVC-V-IAS--VLIE-TGAGTGWTVYPPLSSI\n",
            "\n",
            "target          136 Q-AHSGPSVDLAIFAL-HLTSISSLLGAINFIVTTLNMRTN--G--MT--MHKLPLFVWS\n",
            "                180 --|||||||||||||--||||||||||||||||||||||----|--|---|---|||||-\n",
            "query           138 -SAHSGPSVDLAIFA-IHLTSISSLLGAINFIVTTLNMR--SIGIHM-IDM---PLFVW-\n",
            "\n",
            "target          188 -IFI-TAF-LLLLSLPVLS-AGI-TMLLL-DRNFNTS-FF-EVS--GGGDPILYEHLFW-\n",
            "                240 -||--||--|||||||||--||--|-|||-||||||--|--||---||-|||||||||--\n",
            "query           189 AIF-FTA-ILLLLSLPVL-TAG-VT-LLLMDRNFNT-GF-YEV-AAGG-DPILYEHLF-Y\n",
            "\n",
            "target          237 FFGHPEVYILII-PGFGIISHVV-STYS-KKPV-FGE-IS-MV-YAMA--SIGLLGFLVW\n",
            "                300 |||||||||-||-|||||||||--|||--|||--||--|--|--||----||||||||||\n",
            "query           239 FFGHPEVYI-IIIPGFGIISHV-ISTY-TKKP-IFG-QI-GM-IYA--IGSIGLLGFLVW\n",
            "\n",
            "target          288 SHHMYIV-GLDA-DT-RAYFTSATM-IIAIPTGIKIFSWLATIH--GGSI--RLAT-PML\n",
            "                360 |||||-|-|||--|--|||||||||-|-||||||||||||||----||----|||--|||\n",
            "query           290 SHHMY-VVGLD-ID-SRAYFTSATMVI-AIPTGIKIFSWLAT--LYGG--ELRLA-VPML\n",
            "\n",
            "target          339 Y-AIA--FLFLFTM-GGLTGVA-LA-NASL-DVAFHDTYYVVGHFHYVLSMGAI-FSLF-\n",
            "                420 --|----||||||--||||||--|--|||--||||||||||||||||||||||--|||--\n",
            "query           341 -FA--LGFLFLFT-IGGLTGV-ML-SNAS-IDVAFHDTYYVVGHFHYVLSMGA-LFSL-I\n",
            "\n",
            "target          390 AGYYYWS-PQIL---GLN-YNEK-LAQIQF----WLI-FIGANV---I-FF-PMHFLGI-\n",
            "                480 ||||||--|------||--||-|-||--------||--|----|---|-|--||||||--\n",
            "query           392 AGYYYW-GP---AMFGL-KYN-KVLA----EVHYWL-LF----VSVNIIF-LPMHFLG-L\n",
            "\n",
            "target          433 NGMPRRIPD-YPDAFA-GWNYVA-SI--GSFIATL-S----LFLFIYI-LYDQ--LV---\n",
            "                540 ||||||||--|||||--|||-|--|---||-|----|----|---|---||----||---\n",
            "query           435 NGMPRRIP-QYPDAF-VGWN-V-VS-SWGS-I---MSVISVL---I--GLY--SVLVQLT\n",
            "\n",
            "target          477 NGL-NNKVNNKSV----IYNKA---PDFV--ESNTIFNLNT--VK--SSSI--EFLL-TS\n",
            "                600 ||--|------------|-------||----|||---|--|--|---|-----|-|--||\n",
            "query           479 NG-EN--------EREEI----QVTPD--YLESN---N--TRDV-RDS---DLE-L-ITS\n",
            "\n",
            "target          520 -PPAV--HSFNT----PAV---Q 533\n",
            "                660 -|-|---|---|----|-----| 683\n",
            "query           513 RP-A-QYH---TFSELP--ILIQ 529\n",
            "\n"
          ]
        }
      ]
    },
    {
      "cell_type": "code",
      "source": [
        "local_alignments[0].score"
      ],
      "metadata": {
        "colab": {
          "base_uri": "https://localhost:8080/"
        },
        "id": "WjAEXAtu-BF8",
        "outputId": "8cd1a0a8-df42-4f73-e65f-f382315e67a8"
      },
      "execution_count": 60,
      "outputs": [
        {
          "output_type": "execute_result",
          "data": {
            "text/plain": [
              "379.0"
            ]
          },
          "metadata": {},
          "execution_count": 60
        }
      ]
    },
    {
      "cell_type": "markdown",
      "source": [
        "We can also use known substitution matrices, such as the BLOSUM62 matrix, instead of specifying gap and mismatch penalties. Incidentally, the BLOSUM62 matrix is also used by BLAST, a popular and powerful tool used to perform pairwise sequence alignments."
      ],
      "metadata": {
        "id": "vtxrMeLb-9R5"
      }
    },
    {
      "cell_type": "code",
      "source": [
        "aligner_sub = Align.PairwiseAligner()\n",
        "aligner_sub.substitution_matrix = substitution_matrices.load(\"BLOSUM62\")\n",
        "blosum_alignments = aligner_sub.align(cox1_s_cerevisiae, cox1_c_albicans)\n",
        "print(blosum_alignments[0])"
      ],
      "metadata": {
        "colab": {
          "base_uri": "https://localhost:8080/"
        },
        "id": "034H2DR3_8Vm",
        "outputId": "4dd0d495-9a87-48f6-c35f-14561111987b"
      },
      "execution_count": 61,
      "outputs": [
        {
          "output_type": "stream",
          "name": "stdout",
          "text": [
            "target            0 M--VQ-RWLYSTNA-KDIA-VLYFMLAIFSGM--A----GTAMSLIIRLELAA-PGSQ--\n",
            "                  0 |--|--|||.||.--|||--.||--|-|.-||--|----|--||.||||||.--||----\n",
            "query             0 MSYV-TRWLFSTS-HKDI-GILY--L-IY-GMVSAMVATG--MSVIIRLELS-GPG--PM\n",
            "\n",
            "target           46 YLHGNSQLFNVLVV-GHAVL-MIF-FLVMPA-LIGG-FGNY-LLPLMIGAT-DT-AFP-R\n",
            "                 60 .||||.|.|||||--|||.--|||-|-|||--|||--||||-|-|.||||--|--||--|\n",
            "query            48 FLHGNNQVFNVLV-TGHAI-AMIFLF-VMP-ILIG-SFGNYFL-PIMIGA-VD-MAF-AR\n",
            "\n",
            "target           97 INNIAFWV-LPMG--LVCLVT--ST-LVESGAGTGWTVYPPLSSIQ-AHSGPSVDLAIFA\n",
            "                120 .|||.||--||----|||-|---|--|.|.|||||||||||||||--|||||||||||||\n",
            "query            99 LNNISFW-CLP--PALVC-V-IAS-VLIETGAGTGWTVYPPLSSI-SAHSGPSVDLAIFA\n",
            "\n",
            "target          150 LHLTSISSLLGAINFIVTTLNMRTN-GMTMHKL---PLFVWSIFI-TAF-LLLLSLPVLS\n",
            "                180 .||||||||||||||||||||||.--|.--|-.---|||||.||--||--|||||||||.\n",
            "query           152 IHLTSISSLLGAINFIVTTLNMRS-IGI--H-MIDMPLFVWAIF-FTA-ILLLLSLPVLT\n",
            "\n",
            "target          204 AGITMLLL-DRNFNTS-FFEVS-GGGDPILYEHLFWFFGHPEVYILIIPGFGIISHVVST\n",
            "                240 ||.|-|||-||||||--|.||.-||-|||||||||.|||||||||.|||||||||||.||\n",
            "query           206 AGVT-LLLMDRNFNT-GFYEVAAGG-DPILYEHLFYFFGHPEVYIIIIPGFGIISHVIST\n",
            "\n",
            "target          261 YSKKPVFGEIS-MVYAMA-SIGLLGFLVWSHHMYIVGLDA-DTRAYFTSATMIIAIPTGI\n",
            "                300 |.|||.||.|--|.||.--|||||||||||||||.||||--|.|||||||||.|||||||\n",
            "query           263 YTKKPIFGQI-GMIYAI-GSIGLLGFLVWSHHMYVVGLD-IDSRAYFTSATMVIAIPTGI\n",
            "\n",
            "target          318 KIFSWLATIHGGS-IRLAT-PMLYAIA-FLFLFTMGGLTGVA-LANASLDVAFHDTYYVV\n",
            "                360 ||||||||..||--.|||--|||.|.--||||||.||||||--|.|||.|||||||||||\n",
            "query           320 KIFSWLATLYGG-ELRLA-VPMLFAL-GFLFLFTIGGLTGV-MLSNASIDVAFHDTYYVV\n",
            "\n",
            "target          374 GHFHYVLSMGAIFSLF-AGYYYWS-PQI-L-GLN-YNEK-LAQIQ-FWLIFIGA-NVIFF\n",
            "                420 |||||||||||.|||--||||||--|---.-||--||-|-||..--.||.|.-.-|.||-\n",
            "query           376 GHFHYVLSMGALFSL-IAGYYYW-GP--AMFGL-KYN-KVLAEV-HYWLLFV-SVNIIF-\n",
            "\n",
            "target          426 -PMHFLGINGMPRRIPD-YPDAFA-GWNYV-ASI-GSFIATLS-LF--LFI--Y-ILYD-\n",
            "                480 -||||||.||||||||--|||||--|||-|-.|--||-|--.|-.---|-|--|-.|---\n",
            "query           427 LPMHFLGLNGMPRRIP-QYPDAF-VGWN-VVSS-WGS-I--MSVI-SVL-IGLYSVL--V\n",
            "\n",
            "target          474 QLV-NGL-NN-K--VNNKSVIYNKA-PDFVESNTIFNLNT--VK-SSS-IEFLLTS-PPA\n",
            "                540 ||--||--|--.--.--.-|------||..|||---|--|--|.-|---.|-|.||-|-|\n",
            "query           476 QL-TNG-EN-EREEI--Q-V-----TPDYLESN---N--TRDVRDS--DLE-LITSRP-A\n",
            "\n",
            "target          523 V--HSFNT--PAV--QS-- 534\n",
            "                600 ---|.|.---|-.--|--- 619\n",
            "query           516 -QYHTFS-ELP-ILIQ-QI 531\n",
            "\n"
          ]
        }
      ]
    },
    {
      "cell_type": "code",
      "source": [
        "blosum_alignments[0].score"
      ],
      "metadata": {
        "colab": {
          "base_uri": "https://localhost:8080/"
        },
        "id": "OrySlaBwE6XN",
        "outputId": "547ec799-d6a0-4e2a-b5c7-5b1d2bab3695"
      },
      "execution_count": 62,
      "outputs": [
        {
          "output_type": "execute_result",
          "data": {
            "text/plain": [
              "2153.0"
            ]
          },
          "metadata": {},
          "execution_count": 62
        }
      ]
    },
    {
      "cell_type": "markdown",
      "source": [
        "The two sequences were sourced from the [NCBI database](https://www.ncbi.nlm.nih.gov/).\n",
        "\n",
        "The documentation for the packages used was obtained from the [Biopython website](https://biopython.org/docs/1.76/api/Bio.Align.html)."
      ],
      "metadata": {
        "id": "UCIBocV9aOrx"
      }
    }
  ]
}