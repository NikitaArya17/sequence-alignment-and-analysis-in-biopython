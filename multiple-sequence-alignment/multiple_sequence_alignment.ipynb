{
  "nbformat": 4,
  "nbformat_minor": 0,
  "metadata": {
    "colab": {
      "provenance": []
    },
    "kernelspec": {
      "name": "python3",
      "display_name": "Python 3"
    },
    "language_info": {
      "name": "python"
    }
  },
  "cells": [
    {
      "cell_type": "markdown",
      "source": [
        "A multiple sequence alignment or MSA is the comparison of several nucleotide or amino acid sequences to detect regions of similarity. When only two sequences are compared, it is referred to as a pairwise alignment.\n",
        "\n",
        "MSAs can be used to identify a subsequence of a protein that has been conserved in several different species. This can give us insight into the evolutionary relationship between the species.\n",
        "\n",
        "For this example, the amino acid sequences of member 1 of the potassium voltage-gated channel subfamily A for twelve different species, including *Homo sapiens*, were extracted from the NCBI database and aligned using the Molecular Evolutionary Genetics Analysis (MEGA) software. The resulting MSA was saved as a FASTA file, which was then explored using Biopython, as demonstrated below."
      ],
      "metadata": {
        "id": "9S_V_TGvwxwA"
      }
    },
    {
      "cell_type": "code",
      "execution_count": 1,
      "metadata": {
        "colab": {
          "base_uri": "https://localhost:8080/"
        },
        "id": "3j-KDId6v3YZ",
        "outputId": "574b9494-d1cd-4c4a-ac7a-9d04d6553321"
      },
      "outputs": [
        {
          "output_type": "stream",
          "name": "stdout",
          "text": [
            "Collecting biopython\n",
            "  Downloading biopython-1.84-cp310-cp310-manylinux_2_17_x86_64.manylinux2014_x86_64.whl.metadata (12 kB)\n",
            "Requirement already satisfied: numpy in /usr/local/lib/python3.10/dist-packages (from biopython) (1.26.4)\n",
            "Downloading biopython-1.84-cp310-cp310-manylinux_2_17_x86_64.manylinux2014_x86_64.whl (3.2 MB)\n",
            "\u001b[2K   \u001b[90m━━━━━━━━━━━━━━━━━━━━━━━━━━━━━━━━━━━━━━━━\u001b[0m \u001b[32m3.2/3.2 MB\u001b[0m \u001b[31m21.3 MB/s\u001b[0m eta \u001b[36m0:00:00\u001b[0m\n",
            "\u001b[?25hInstalling collected packages: biopython\n",
            "Successfully installed biopython-1.84\n"
          ]
        }
      ],
      "source": [
        "!pip install biopython"
      ]
    },
    {
      "cell_type": "code",
      "source": [
        "from Bio import AlignIO\n",
        "alignments = AlignIO.read('/content/Potassium_gated_voltage_channel_MSA.fas', 'fasta')"
      ],
      "metadata": {
        "id": "PqKvqhwJwAVW"
      },
      "execution_count": 8,
      "outputs": []
    },
    {
      "cell_type": "code",
      "source": [
        "print(alignments)"
      ],
      "metadata": {
        "colab": {
          "base_uri": "https://localhost:8080/"
        },
        "id": "JA_adf1TzCyx",
        "outputId": "86ff439d-cb3a-4b83-c401-584cf7b0149e"
      },
      "execution_count": 9,
      "outputs": [
        {
          "output_type": "stream",
          "name": "stdout",
          "text": [
            "Alignment with 12 rows and 517 columns\n",
            "MTVMSG-----------------ENVDEASAAP-GHP---QDGS...TDV A.mel\n",
            "MTVMSG-----------------ENVDEASAAP-GHP---QEGS...TDV P.tig\n",
            "MTVMSG-----------------ENVDEASAAP-GHP---QDGS...TDV H.sap\n",
            "MTVMSG-----------------ENADEASTAP-GHP---QDGS...TDV M.mus\n",
            "MTVMSG-----------------ENVEEASAAQ-GHP---QDIS...TDV S.har\n",
            "MTVMAG-----------------ENMDETSALP-GHP---QD-S...TDV E.gar\n",
            "MTVMAG-----------------ENMDETSALP-GHP---QD-S...TDV M.uni\n",
            "MDAISGIPSLTAGIDKGQGTGYTDNLNNSHVRPRGQPTLVNKPV...--- S.sal\n",
            "MDAISGIPSLTAGIDKGQGTGYTDNLNNSHVRPRGQPTLVNKPV...--- S.sal\n",
            "MDAISGIPSLTAGIDKGQGTGYTDNLNNSHVRPRGQPTLVNKPV...--- P.for\n",
            "MDAISGIPSLTAGIDKGQGTGYTDNLNNSHVRPRGQPTLVNKPV...--- X.mac\n",
            "MTVVAG-----------------DNMDETSAVP-GHP---QD-A...TDV N.fur\n"
          ]
        }
      ]
    },
    {
      "cell_type": "code",
      "source": [
        "len(alignments)"
      ],
      "metadata": {
        "colab": {
          "base_uri": "https://localhost:8080/"
        },
        "id": "AkDbRK8FzO4I",
        "outputId": "e244b341-d9c4-467b-c97e-92466c3c47ae"
      },
      "execution_count": 10,
      "outputs": [
        {
          "output_type": "execute_result",
          "data": {
            "text/plain": [
              "12"
            ]
          },
          "metadata": {},
          "execution_count": 10
        }
      ]
    },
    {
      "cell_type": "code",
      "source": [
        "for record in alignments:\n",
        "  print(f\"{record.id} {len(record)}\")"
      ],
      "metadata": {
        "colab": {
          "base_uri": "https://localhost:8080/"
        },
        "id": "rp87feUOzRHY",
        "outputId": "0685463d-af64-4b28-fcf6-d0cad4ade22d"
      },
      "execution_count": 13,
      "outputs": [
        {
          "output_type": "stream",
          "name": "stdout",
          "text": [
            "A.mel 517\n",
            "P.tig 517\n",
            "H.sap 517\n",
            "M.mus 517\n",
            "S.har 517\n",
            "E.gar 517\n",
            "M.uni 517\n",
            "S.sal 517\n",
            "S.sal 517\n",
            "P.for 517\n",
            "X.mac 517\n",
            "N.fur 517\n"
          ]
        }
      ]
    },
    {
      "cell_type": "code",
      "source": [
        "#Individual rows can be accessed by their index, not unlike a DataFrame\n",
        "\n",
        "print(alignments[0])\n",
        "print('\\n')\n",
        "print(alignments[-1])"
      ],
      "metadata": {
        "colab": {
          "base_uri": "https://localhost:8080/"
        },
        "id": "RMSPK2qmz-mf",
        "outputId": "405687d8-a05d-4aa2-ade4-de3187220bc0"
      },
      "execution_count": 19,
      "outputs": [
        {
          "output_type": "stream",
          "name": "stdout",
          "text": [
            "ID: A.mel\n",
            "Name: A.mel\n",
            "Description: A.mel | pub gene id:KCNA1 seq id:9646 0 description:Potassium voltage-gated channel subfamily A member 1 KCNA1 length: 495\n",
            "Number of features: 0\n",
            "Seq('MTVMSG-----------------ENVDEASAAP-GHP---QDGSYPRPAEHDDH...TDV')\n",
            "\n",
            "\n",
            "ID: N.fur\n",
            "Name: N.fur\n",
            "Description: N.fur | pub gene id:KCNA1 seq id:105023 0 description:Potassium voltage-gated channel shaker-related subfamily member 1 KCNA1 length: 491\n",
            "Number of features: 0\n",
            "Seq('MTVVAG-----------------DNMDETSAVP-GHP---QD-AY--PPDHNDH...TDV')\n"
          ]
        }
      ]
    },
    {
      "cell_type": "code",
      "source": [
        "#To access the id attribute of an individual record\n",
        "\n",
        "print(alignments[0].id)\n",
        "print(alignments[-1].id)"
      ],
      "metadata": {
        "colab": {
          "base_uri": "https://localhost:8080/"
        },
        "id": "H5VknGUy0hbi",
        "outputId": "9a5fd5f9-66fe-45b0-8170-2117d6ca583f"
      },
      "execution_count": 20,
      "outputs": [
        {
          "output_type": "stream",
          "name": "stdout",
          "text": [
            "A.mel\n",
            "N.fur\n"
          ]
        }
      ]
    },
    {
      "cell_type": "code",
      "source": [
        "#Columns can be extracted as strings\n",
        "\n",
        "print(alignments[:, 1])"
      ],
      "metadata": {
        "colab": {
          "base_uri": "https://localhost:8080/"
        },
        "id": "5qptPsdL0vjv",
        "outputId": "94872050-20e0-4bd2-e71d-abacb9f61ad4"
      },
      "execution_count": 31,
      "outputs": [
        {
          "output_type": "stream",
          "name": "stdout",
          "text": [
            "TTTTTTTDDDDT\n"
          ]
        }
      ]
    },
    {
      "cell_type": "code",
      "source": [
        "#Sub-alignments can be extracted from the alignment\n",
        "\n",
        "print(alignments[:6, :])"
      ],
      "metadata": {
        "colab": {
          "base_uri": "https://localhost:8080/"
        },
        "id": "C4RaE67e0_XW",
        "outputId": "060f6e44-727a-4fa8-d091-bf110e646340"
      },
      "execution_count": 29,
      "outputs": [
        {
          "output_type": "stream",
          "name": "stdout",
          "text": [
            "Alignment with 6 rows and 517 columns\n",
            "MTVMSG-----------------ENVDEASAAP-GHP---QDGS...TDV A.mel\n",
            "MTVMSG-----------------ENVDEASAAP-GHP---QEGS...TDV P.tig\n",
            "MTVMSG-----------------ENVDEASAAP-GHP---QDGS...TDV H.sap\n",
            "MTVMSG-----------------ENADEASTAP-GHP---QDGS...TDV M.mus\n",
            "MTVMSG-----------------ENVEEASAAQ-GHP---QDIS...TDV S.har\n",
            "MTVMAG-----------------ENMDETSALP-GHP---QD-S...TDV E.gar\n"
          ]
        }
      ]
    },
    {
      "cell_type": "markdown",
      "source": [
        "The sequences were sourced from the [NCBI](https://www.ncbi.nlm.nih.gov/).\n",
        "\n",
        "The MSA was performed using the MEGA software, with documentation and installation instructions available [here](https://www.megasoftware.net/).\n",
        "\n",
        "The documentation for the packages used was obtained from the [Biopython website](https://biopython.org/docs/1.76/api/Bio.Align.html)."
      ],
      "metadata": {
        "id": "bVBDAwTN2kWG"
      }
    }
  ]
}