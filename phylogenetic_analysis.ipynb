{
  "nbformat": 4,
  "nbformat_minor": 0,
  "metadata": {
    "colab": {
      "provenance": []
    },
    "kernelspec": {
      "name": "python3",
      "display_name": "Python 3"
    },
    "language_info": {
      "name": "python"
    }
  },
  "cells": [
    {
      "cell_type": "markdown",
      "source": [
        "## Phylogenetic Tree Construction\n",
        "\n",
        "A phylogenetic tree provides information about the evolutionary relationships between different species of organisms.\n",
        "\n",
        "The Biopython suite contains the `DistanceCalculator` and `DistanceTreeConstructor` methods, available from the `TreeConstruction` library, to calculate distance matrices and construct phylogenetic trees, respectively.\n",
        "\n",
        "For this demonstration, the amino acid sequences of member 1 of voltage-gated potassium channel subfamily A for 11 species, including *Homo sapiens*, were extracted from the NCBI database and aligned using the MEGA (Molecular Evolutionary Genetics Analysis) software. This multiple sequence alignment was saved as a FASTA file, which was used for this demonstration."
      ],
      "metadata": {
        "id": "TRUNV7O5PGMi"
      }
    },
    {
      "cell_type": "code",
      "execution_count": 1,
      "metadata": {
        "colab": {
          "base_uri": "https://localhost:8080/"
        },
        "id": "FQD4dYn5Igsr",
        "outputId": "453349ea-bbbc-469c-cb1b-b50001fdc7b2"
      },
      "outputs": [
        {
          "output_type": "stream",
          "name": "stdout",
          "text": [
            "Collecting biopython\n",
            "  Downloading biopython-1.84-cp310-cp310-manylinux_2_17_x86_64.manylinux2014_x86_64.whl.metadata (12 kB)\n",
            "Requirement already satisfied: numpy in /usr/local/lib/python3.10/dist-packages (from biopython) (1.26.4)\n",
            "Downloading biopython-1.84-cp310-cp310-manylinux_2_17_x86_64.manylinux2014_x86_64.whl (3.2 MB)\n",
            "\u001b[2K   \u001b[90m━━━━━━━━━━━━━━━━━━━━━━━━━━━━━━━━━━━━━━━━\u001b[0m \u001b[32m3.2/3.2 MB\u001b[0m \u001b[31m17.9 MB/s\u001b[0m eta \u001b[36m0:00:00\u001b[0m\n",
            "\u001b[?25hInstalling collected packages: biopython\n",
            "Successfully installed biopython-1.84\n"
          ]
        }
      ],
      "source": [
        "!pip install biopython"
      ]
    },
    {
      "cell_type": "code",
      "source": [
        "from Bio.Phylo.TreeConstruction import DistanceCalculator, DistanceTreeConstructor\n",
        "from Bio import AlignIO"
      ],
      "metadata": {
        "id": "b7z_dZUMIl75"
      },
      "execution_count": 16,
      "outputs": []
    },
    {
      "cell_type": "code",
      "source": [
        "msa = AlignIO.read('/content/MSA_file.fas', 'fasta')\n",
        "print(msa)"
      ],
      "metadata": {
        "colab": {
          "base_uri": "https://localhost:8080/"
        },
        "id": "xkNrf95WIyz0",
        "outputId": "7eac119a-f2c3-429f-e473-df6383341a50"
      },
      "execution_count": 13,
      "outputs": [
        {
          "output_type": "stream",
          "name": "stdout",
          "text": [
            "Alignment with 11 rows and 517 columns\n",
            "MTVMSG-----------------ENVDEASAAP-GHP---QDGS...TDV A.mel\n",
            "MTVMSG-----------------ENVDEASAAP-GHP---QEGS...TDV P.tig\n",
            "MTVMSG-----------------ENVDEASAAP-GHP---QDGS...TDV H.sap\n",
            "MTVMSG-----------------ENADEASTAP-GHP---QDGS...TDV M.mus\n",
            "MTVMSG-----------------ENVEEASAAQ-GHP---QDIS...TDV S.har\n",
            "MTVMAG-----------------ENMDETSALP-GHP---QD-S...TDV E.gar\n",
            "MTVMAG-----------------ENMDETSALP-GHP---QD-S...TDV M.uni\n",
            "MDAISGIPSLTAGIDKGQGTGYTDNLNNSHVRPRGQPTLVNKPV...--- S.sal\n",
            "MDAISGIPSLTAGIDKGQGTGYTDNLNNSHVRPRGQPTLVNKPV...--- P.for\n",
            "MDAISGIPSLTAGIDKGQGTGYTDNLNNSHVRPRGQPTLVNKPV...--- X.mac\n",
            "MTVVAG-----------------DNMDETSAVP-GHP---QD-A...TDV N.fur\n"
          ]
        }
      ]
    },
    {
      "cell_type": "code",
      "source": [
        "# This code calculates a distance matrix using the 'identity' model.\n",
        "# The 'identity' model is the default model that can be used for nucleotide\n",
        "# and amino acid sequences.\n",
        "\n",
        "calculator = DistanceCalculator('identity')\n",
        "dist_mat = calculator.get_distance(msa)\n",
        "print(dist_mat)"
      ],
      "metadata": {
        "colab": {
          "base_uri": "https://localhost:8080/"
        },
        "id": "KFf694tXLnEI",
        "outputId": "75fca1c4-39eb-4aac-e6ce-485b9a19846c"
      },
      "execution_count": 21,
      "outputs": [
        {
          "output_type": "stream",
          "name": "stdout",
          "text": [
            "A.mel   0.000000\n",
            "P.tig   0.009671    0.000000\n",
            "H.sap   0.015474    0.013540    0.000000\n",
            "M.mus   0.019342    0.017408    0.015474    0.000000\n",
            "S.har   0.042553    0.040619    0.042553    0.042553    0.000000\n",
            "E.gar   0.071567    0.069632    0.073501    0.073501    0.071567    0.000000\n",
            "M.uni   0.069632    0.067698    0.071567    0.071567    0.069632    0.001934    0.000000\n",
            "S.sal   0.520309    0.518375    0.516441    0.518375    0.516441    0.516441    0.516441    0.000000\n",
            "P.for   0.520309    0.518375    0.516441    0.518375    0.516441    0.516441    0.516441    0.000000    0.000000\n",
            "X.mac   0.520309    0.518375    0.516441    0.518375    0.516441    0.516441    0.516441    0.000000    0.000000    0.000000\n",
            "N.fur   0.164410    0.160542    0.162476    0.162476    0.156673    0.139265    0.137331    0.514507    0.514507    0.514507    0.000000\n",
            "    A.mel   P.tig   H.sap   M.mus   S.har   E.gar   M.uni   S.sal   P.for   X.mac   N.fur\n"
          ]
        }
      ]
    },
    {
      "cell_type": "code",
      "source": [
        "dist_mat"
      ],
      "metadata": {
        "colab": {
          "base_uri": "https://localhost:8080/"
        },
        "id": "94BGSLEANPxH",
        "outputId": "7de6575b-58f5-4ca9-e5c6-69252948f1ca"
      },
      "execution_count": 15,
      "outputs": [
        {
          "output_type": "execute_result",
          "data": {
            "text/plain": [
              "DistanceMatrix(names=['A.mel', 'P.tig', 'H.sap', 'M.mus', 'S.har', 'E.gar', 'M.uni', 'S.sal', 'P.for', 'X.mac', 'N.fur'], matrix=[[0], [0.009671179883945835, 0], [0.015473887814313358, 0.013539651837524147, 0], [0.01934235976789167, 0.01740812379110257, 0.015473887814313358, 0], [0.04255319148936165, 0.04061895551257255, 0.04255319148936165, 0.04255319148936165, 0], [0.07156673114119927, 0.06963249516441006, 0.07350096711798837, 0.07350096711798837, 0.07156673114119927, 0], [0.06963249516441006, 0.06769825918762085, 0.07156673114119927, 0.07156673114119927, 0.06963249516441006, 0.0019342359767892114, 0], [0.5203094777562862, 0.5183752417794971, 0.5164410058027079, 0.5183752417794971, 0.5164410058027079, 0.5164410058027079, 0.5164410058027079, 0], [0.5203094777562862, 0.5183752417794971, 0.5164410058027079, 0.5183752417794971, 0.5164410058027079, 0.5164410058027079, 0.5164410058027079, 0.0, 0], [0.5203094777562862, 0.5183752417794971, 0.5164410058027079, 0.5183752417794971, 0.5164410058027079, 0.5164410058027079, 0.5164410058027079, 0.0, 0.0, 0], [0.1644100580270793, 0.160541586073501, 0.1624758220502901, 0.1624758220502901, 0.15667311411992269, 0.13926499032882012, 0.1373307543520309, 0.5145067698259187, 0.5145067698259187, 0.5145067698259187, 0]])"
            ]
          },
          "metadata": {},
          "execution_count": 15
        }
      ]
    },
    {
      "cell_type": "code",
      "source": [
        "# To construct a Neighbour Joining Tree using the raw MSA file\n",
        "\n",
        "constructor = DistanceTreeConstructor(calculator, 'nj')\n",
        "nj_tree = constructor.build_tree(msa)\n",
        "print(nj_tree)"
      ],
      "metadata": {
        "colab": {
          "base_uri": "https://localhost:8080/"
        },
        "id": "adA7q77PNR50",
        "outputId": "972c08a4-0a43-4d98-e0c2-77774d5f29cc"
      },
      "execution_count": 22,
      "outputs": [
        {
          "output_type": "stream",
          "name": "stdout",
          "text": [
            "Tree(rooted=False)\n",
            "    Clade(branch_length=0, name='Inner9')\n",
            "        Clade(branch_length=0.0029013539651837686, name='Inner7')\n",
            "            Clade(branch_length=0.005843004513217264, name='A.mel')\n",
            "            Clade(branch_length=0.0038281753707285707, name='P.tig')\n",
            "        Clade(branch_length=0.000967117988394571, name='Inner8')\n",
            "            Clade(branch_length=0.008764506769825934, name='M.mus')\n",
            "            Clade(branch_length=0.0067093810444874245, name='H.sap')\n",
            "        Clade(branch_length=0.013902321083172117, name='Inner6')\n",
            "            Clade(branch_length=0.019946808510638334, name='Inner5')\n",
            "                Clade(branch_length=0.04076402321083174, name='Inner3')\n",
            "                    Clade(branch_length=0.07584968223266092, name='N.fur')\n",
            "                    Clade(branch_length=0.4386570875932578, name='Inner2')\n",
            "                        Clade(branch_length=0.0, name='X.mac')\n",
            "                        Clade(branch_length=0.0, name='Inner1')\n",
            "                            Clade(branch_length=0.0, name='P.for')\n",
            "                            Clade(branch_length=0.0, name='S.sal')\n",
            "                Clade(branch_length=0.028384912959381017, name='Inner4')\n",
            "                    Clade(branch_length=8.059316569956898e-05, name='M.uni')\n",
            "                    Clade(branch_length=0.0018536428110896425, name='E.gar')\n",
            "            Clade(branch_length=0.019946808510638292, name='S.har')\n"
          ]
        }
      ]
    },
    {
      "cell_type": "code",
      "source": [
        "# To construct the tree using your pre-defined distance matrix\n",
        "\n",
        "custom_mat_constructor = DistanceTreeConstructor()\n",
        "custom_mat_nj = custom_mat_constructor.nj(dist_mat)\n",
        "print(custom_mat_nj)"
      ],
      "metadata": {
        "colab": {
          "base_uri": "https://localhost:8080/"
        },
        "id": "xVLRpBiFN3vs",
        "outputId": "5599d240-07c2-482c-ca7a-a9871e9f5d39"
      },
      "execution_count": 23,
      "outputs": [
        {
          "output_type": "stream",
          "name": "stdout",
          "text": [
            "Tree(rooted=False)\n",
            "    Clade(branch_length=0, name='Inner9')\n",
            "        Clade(branch_length=0.0029013539651837686, name='Inner7')\n",
            "            Clade(branch_length=0.005843004513217264, name='A.mel')\n",
            "            Clade(branch_length=0.0038281753707285707, name='P.tig')\n",
            "        Clade(branch_length=0.000967117988394571, name='Inner8')\n",
            "            Clade(branch_length=0.008764506769825934, name='M.mus')\n",
            "            Clade(branch_length=0.0067093810444874245, name='H.sap')\n",
            "        Clade(branch_length=0.013902321083172117, name='Inner6')\n",
            "            Clade(branch_length=0.019946808510638334, name='Inner5')\n",
            "                Clade(branch_length=0.04076402321083174, name='Inner3')\n",
            "                    Clade(branch_length=0.07584968223266092, name='N.fur')\n",
            "                    Clade(branch_length=0.4386570875932578, name='Inner2')\n",
            "                        Clade(branch_length=0.0, name='X.mac')\n",
            "                        Clade(branch_length=0.0, name='Inner1')\n",
            "                            Clade(branch_length=0.0, name='P.for')\n",
            "                            Clade(branch_length=0.0, name='S.sal')\n",
            "                Clade(branch_length=0.028384912959381017, name='Inner4')\n",
            "                    Clade(branch_length=8.059316569956898e-05, name='M.uni')\n",
            "                    Clade(branch_length=0.0018536428110896425, name='E.gar')\n",
            "            Clade(branch_length=0.019946808510638292, name='S.har')\n"
          ]
        }
      ]
    },
    {
      "cell_type": "code",
      "source": [
        "# To construct a UPGMA tree using the same matrix\n",
        "\n",
        "custom_mat_upgma = custom_mat_constructor.upgma(dist_mat)\n",
        "print(custom_mat_upgma)"
      ],
      "metadata": {
        "colab": {
          "base_uri": "https://localhost:8080/"
        },
        "id": "8GV_bk9rOYRN",
        "outputId": "6e04ef86-cb9c-4059-e710-6830913045f7"
      },
      "execution_count": 20,
      "outputs": [
        {
          "output_type": "stream",
          "name": "stdout",
          "text": [
            "Tree(rooted=True)\n",
            "    Clade(branch_length=0, name='Inner10')\n",
            "        Clade(branch_length=0.2578427224371373, name='Inner2')\n",
            "            Clade(branch_length=0.0, name='Inner1')\n",
            "                Clade(branch_length=0.0, name='X.mac')\n",
            "                Clade(branch_length=0.0, name='P.for')\n",
            "            Clade(branch_length=0.0, name='S.sal')\n",
            "        Clade(branch_length=0.18337463733075432, name='Inner9')\n",
            "            Clade(branch_length=0.07446808510638298, name='N.fur')\n",
            "            Clade(branch_length=0.05331237911025147, name='Inner8')\n",
            "                Clade(branch_length=0.03463491295938103, name='Inner3')\n",
            "                    Clade(branch_length=0.0009671179883946057, name='M.uni')\n",
            "                    Clade(branch_length=0.0009671179883946057, name='E.gar')\n",
            "                Clade(branch_length=0.014446324951644128, name='Inner7')\n",
            "                    Clade(branch_length=0.021155705996131507, name='S.har')\n",
            "                    Clade(branch_length=0.012693423597678888, name='Inner6')\n",
            "                        Clade(branch_length=0.00846228239845262, name='M.mus')\n",
            "                        Clade(branch_length=0.0012088974854932433, name='Inner5')\n",
            "                            Clade(branch_length=0.007253384912959376, name='H.sap')\n",
            "                            Clade(branch_length=0.002417794970986459, name='Inner4')\n",
            "                                Clade(branch_length=0.004835589941972918, name='P.tig')\n",
            "                                Clade(branch_length=0.004835589941972918, name='A.mel')\n"
          ]
        }
      ]
    },
    {
      "cell_type": "markdown",
      "source": [
        "The documentation for the packages used was obtained from the [Biopython website](https://biopython.org/wiki/Phylo)."
      ],
      "metadata": {
        "id": "QdMRduq-RUki"
      }
    }
  ]
}